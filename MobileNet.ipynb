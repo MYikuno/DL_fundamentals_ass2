{
  "nbformat": 4,
  "nbformat_minor": 0,
  "metadata": {
    "colab": {
      "provenance": [],
      "gpuType": "T4"
    },
    "kernelspec": {
      "name": "python3",
      "display_name": "Python 3"
    },
    "language_info": {
      "name": "python"
    },
    "accelerator": "GPU"
  },
  "cells": [
    {
      "cell_type": "code",
      "execution_count": 1,
      "metadata": {
        "id": "2WcrYAAYUUSw"
      },
      "outputs": [],
      "source": [
        "##import libraries\n",
        "import pandas as pd\n",
        "import numpy as np\n",
        "import matplotlib.pyplot as plt\n",
        "%matplotlib inline\n",
        "\n",
        "import tensorflow as tf\n",
        "from tensorflow.keras.datasets import cifar10\n",
        "from tensorflow.keras.utils import to_categorical\n",
        "\n",
        "from tensorflow.keras import layers, models\n",
        "from tensorflow.keras.models import Sequential\n",
        "from tensorflow.keras.layers import Dense, Conv2D, MaxPooling2D, Flatten, Dropout, BatchNormalization, GlobalAveragePooling2D\n",
        "from tensorflow.keras.callbacks import EarlyStopping\n",
        "from tensorflow.keras.preprocessing.image import ImageDataGenerator\n",
        "from tensorflow.keras.applications import MobileNetV2\n",
        "from keras.layers import Resizing\n",
        "\n",
        "\n",
        "from sklearn.metrics import ConfusionMatrixDisplay\n",
        "from sklearn.metrics import classification_report, confusion_matrix\n",
        "from sklearn.model_selection import train_test_split"
      ]
    },
    {
      "cell_type": "markdown",
      "source": [
        "Data loading and pre-processing"
      ],
      "metadata": {
        "id": "UQdtLP5zYfbr"
      }
    },
    {
      "cell_type": "code",
      "source": [
        "# Load CIFAR-10 dataset\n",
        "(x_train, y_train), (x_test, y_test) = cifar10.load_data()\n",
        "\n",
        "#original y_test\n",
        "y_test_orig = y_test\n",
        "\n",
        "#split into train and val\n",
        "x_train, x_val, y_train, y_val = train_test_split(x_train, y_train, test_size = 0.2, random_state = 42)\n",
        "y_train, y_val, y_test = to_categorical(y_train, 10), to_categorical(y_val, 10), to_categorical(y_test, 10)\n",
        "\n",
        "# Define a function to preprocess images\n",
        "def preprocess(image, label):\n",
        "    # Resize and normalize images\n",
        "    image = tf.image.resize(image, [224, 224])/255.0\n",
        "    return image, label\n",
        "\n",
        "# Create tf.data.Dataset objects\n",
        "train_dataset = tf.data.Dataset.from_tensor_slices((x_train, y_train))\n",
        "train_dataset = train_dataset.map(preprocess).batch(32).prefetch(tf.data.AUTOTUNE)\n",
        "\n",
        "##validation data\n",
        "test_dataset = tf.data.Dataset.from_tensor_slices((x_val, y_val))\n",
        "test_dataset = test_dataset.map(preprocess).batch(32).prefetch(tf.data.AUTOTUNE)"
      ],
      "metadata": {
        "colab": {
          "base_uri": "https://localhost:8080/"
        },
        "id": "AXcFiMRBYeK0",
        "outputId": "048bb8b1-eb86-4ebc-b534-f45786ed4f63"
      },
      "execution_count": 2,
      "outputs": [
        {
          "output_type": "stream",
          "name": "stdout",
          "text": [
            "Downloading data from https://www.cs.toronto.edu/~kriz/cifar-10-python.tar.gz\n",
            "\u001b[1m170498071/170498071\u001b[0m \u001b[32m━━━━━━━━━━━━━━━━━━━━\u001b[0m\u001b[37m\u001b[0m \u001b[1m8s\u001b[0m 0us/step\n"
          ]
        }
      ]
    },
    {
      "cell_type": "markdown",
      "source": [
        "**Model Building**"
      ],
      "metadata": {
        "id": "tQK1yOiyU-UC"
      }
    },
    {
      "cell_type": "code",
      "source": [
        "## Load MobileNetV2 with ImageNet weights, excluding the top layers\n",
        "base_model = MobileNetV2(weights='imagenet', include_top=False, input_shape=(224, 224, 3))\n",
        "base_model.trainable = False\n",
        "\n",
        "## Build the model with additional layers for CIFAR-10 classification\n",
        "model = models.Sequential([\n",
        "    base_model,\n",
        "    layers.GlobalAveragePooling2D(),\n",
        "    layers.Dense(1024, activation='relu'),\n",
        "    layers.Dropout(0.5),\n",
        "    layers.Dense(10, activation='softmax')\n",
        "])\n",
        "\n",
        "## Compile the model\n",
        "model.compile(optimizer='adam', loss='categorical_crossentropy', metrics=['accuracy'])"
      ],
      "metadata": {
        "colab": {
          "base_uri": "https://localhost:8080/"
        },
        "id": "ONGJ3KEqUbox",
        "outputId": "8b236583-73ca-4c2d-be38-d9c955757b89"
      },
      "execution_count": 3,
      "outputs": [
        {
          "output_type": "stream",
          "name": "stdout",
          "text": [
            "Downloading data from https://storage.googleapis.com/tensorflow/keras-applications/mobilenet_v2/mobilenet_v2_weights_tf_dim_ordering_tf_kernels_1.0_224_no_top.h5\n",
            "\u001b[1m9406464/9406464\u001b[0m \u001b[32m━━━━━━━━━━━━━━━━━━━━\u001b[0m\u001b[37m\u001b[0m \u001b[1m1s\u001b[0m 0us/step\n"
          ]
        }
      ]
    },
    {
      "cell_type": "code",
      "source": [],
      "metadata": {
        "id": "nVnAJUVuVIez"
      },
      "execution_count": null,
      "outputs": []
    },
    {
      "cell_type": "markdown",
      "source": [
        "**Model Training**"
      ],
      "metadata": {
        "id": "xLjlZM1jVJev"
      }
    },
    {
      "cell_type": "code",
      "source": [
        "# Train the model using the tf.data datasets\n",
        "history = model.fit(train_dataset, epochs=10, validation_data=test_dataset)\n",
        "\n",
        "# Fine-tuning (optional)\n",
        "#base_model.trainable = True\n",
        "#model.compile(optimizer=tf.keras.optimizers.Adam(1e-5), loss='categorical_crossentropy', metrics=['accuracy'])\n",
        "#model.fit(train_dataset, epochs=5, validation_data=test_dataset)"
      ],
      "metadata": {
        "colab": {
          "base_uri": "https://localhost:8080/"
        },
        "id": "TnraAWoNUmo3",
        "outputId": "462b08f4-fcaf-49e1-90a7-fc95de71b679"
      },
      "execution_count": 4,
      "outputs": [
        {
          "output_type": "stream",
          "name": "stdout",
          "text": [
            "Epoch 1/15\n",
            "\u001b[1m1250/1250\u001b[0m \u001b[32m━━━━━━━━━━━━━━━━━━━━\u001b[0m\u001b[37m\u001b[0m \u001b[1m64s\u001b[0m 41ms/step - accuracy: 0.6753 - loss: 0.9809 - val_accuracy: 0.7852 - val_loss: 0.6073\n",
            "Epoch 2/15\n",
            "\u001b[1m1250/1250\u001b[0m \u001b[32m━━━━━━━━━━━━━━━━━━━━\u001b[0m\u001b[37m\u001b[0m \u001b[1m70s\u001b[0m 37ms/step - accuracy: 0.7645 - loss: 0.6737 - val_accuracy: 0.8037 - val_loss: 0.5620\n",
            "Epoch 3/15\n",
            "\u001b[1m1250/1250\u001b[0m \u001b[32m━━━━━━━━━━━━━━━━━━━━\u001b[0m\u001b[37m\u001b[0m \u001b[1m79s\u001b[0m 35ms/step - accuracy: 0.7815 - loss: 0.6302 - val_accuracy: 0.8085 - val_loss: 0.5362\n",
            "Epoch 4/15\n",
            "\u001b[1m1250/1250\u001b[0m \u001b[32m━━━━━━━━━━━━━━━━━━━━\u001b[0m\u001b[37m\u001b[0m \u001b[1m82s\u001b[0m 35ms/step - accuracy: 0.7957 - loss: 0.5909 - val_accuracy: 0.8128 - val_loss: 0.5349\n",
            "Epoch 5/15\n",
            "\u001b[1m1250/1250\u001b[0m \u001b[32m━━━━━━━━━━━━━━━━━━━━\u001b[0m\u001b[37m\u001b[0m \u001b[1m82s\u001b[0m 35ms/step - accuracy: 0.8055 - loss: 0.5668 - val_accuracy: 0.8127 - val_loss: 0.5303\n",
            "Epoch 6/15\n",
            "\u001b[1m1250/1250\u001b[0m \u001b[32m━━━━━━━━━━━━━━━━━━━━\u001b[0m\u001b[37m\u001b[0m \u001b[1m84s\u001b[0m 37ms/step - accuracy: 0.8125 - loss: 0.5451 - val_accuracy: 0.8081 - val_loss: 0.5480\n",
            "Epoch 7/15\n",
            "\u001b[1m1250/1250\u001b[0m \u001b[32m━━━━━━━━━━━━━━━━━━━━\u001b[0m\u001b[37m\u001b[0m \u001b[1m46s\u001b[0m 37ms/step - accuracy: 0.8189 - loss: 0.5197 - val_accuracy: 0.8216 - val_loss: 0.5115\n",
            "Epoch 8/15\n",
            "\u001b[1m1250/1250\u001b[0m \u001b[32m━━━━━━━━━━━━━━━━━━━━\u001b[0m\u001b[37m\u001b[0m \u001b[1m81s\u001b[0m 36ms/step - accuracy: 0.8223 - loss: 0.5055 - val_accuracy: 0.8185 - val_loss: 0.5215\n",
            "Epoch 9/15\n",
            "\u001b[1m1250/1250\u001b[0m \u001b[32m━━━━━━━━━━━━━━━━━━━━\u001b[0m\u001b[37m\u001b[0m \u001b[1m44s\u001b[0m 35ms/step - accuracy: 0.8325 - loss: 0.4847 - val_accuracy: 0.8239 - val_loss: 0.5188\n",
            "Epoch 10/15\n",
            "\u001b[1m1250/1250\u001b[0m \u001b[32m━━━━━━━━━━━━━━━━━━━━\u001b[0m\u001b[37m\u001b[0m \u001b[1m44s\u001b[0m 35ms/step - accuracy: 0.8300 - loss: 0.4848 - val_accuracy: 0.8247 - val_loss: 0.5102\n",
            "Epoch 11/15\n",
            "\u001b[1m1250/1250\u001b[0m \u001b[32m━━━━━━━━━━━━━━━━━━━━\u001b[0m\u001b[37m\u001b[0m \u001b[1m84s\u001b[0m 37ms/step - accuracy: 0.8380 - loss: 0.4572 - val_accuracy: 0.8287 - val_loss: 0.5124\n",
            "Epoch 12/15\n",
            "\u001b[1m1250/1250\u001b[0m \u001b[32m━━━━━━━━━━━━━━━━━━━━\u001b[0m\u001b[37m\u001b[0m \u001b[1m47s\u001b[0m 37ms/step - accuracy: 0.8447 - loss: 0.4377 - val_accuracy: 0.8248 - val_loss: 0.5296\n",
            "Epoch 13/15\n",
            "\u001b[1m1250/1250\u001b[0m \u001b[32m━━━━━━━━━━━━━━━━━━━━\u001b[0m\u001b[37m\u001b[0m \u001b[1m81s\u001b[0m 37ms/step - accuracy: 0.8472 - loss: 0.4299 - val_accuracy: 0.8316 - val_loss: 0.5140\n",
            "Epoch 14/15\n",
            "\u001b[1m1250/1250\u001b[0m \u001b[32m━━━━━━━━━━━━━━━━━━━━\u001b[0m\u001b[37m\u001b[0m \u001b[1m81s\u001b[0m 36ms/step - accuracy: 0.8523 - loss: 0.4184 - val_accuracy: 0.8279 - val_loss: 0.5395\n",
            "Epoch 15/15\n",
            "\u001b[1m1250/1250\u001b[0m \u001b[32m━━━━━━━━━━━━━━━━━━━━\u001b[0m\u001b[37m\u001b[0m \u001b[1m82s\u001b[0m 36ms/step - accuracy: 0.8587 - loss: 0.3964 - val_accuracy: 0.8292 - val_loss: 0.5399\n"
          ]
        }
      ]
    },
    {
      "cell_type": "code",
      "source": [
        "#save model weights into disk\n",
        "model.save('/content/drive/MyDrive/Segmentation Models/mobnet_model.h5')"
      ],
      "metadata": {
        "id": "ealSeIdny4Hc"
      },
      "execution_count": null,
      "outputs": []
    },
    {
      "cell_type": "code",
      "source": [],
      "metadata": {
        "id": "8r2lv9guzM82"
      },
      "execution_count": null,
      "outputs": []
    },
    {
      "cell_type": "code",
      "source": [
        "#save training history into disk\n",
        "import pickle\n",
        "with open('/content/drive/MyDrive/mobnet_trainhistDict', 'wb') as file_pi:\n",
        "    pickle.dump(history.history, file_pi)"
      ],
      "metadata": {
        "id": "9MlGXd8WzFLo"
      },
      "execution_count": null,
      "outputs": []
    },
    {
      "cell_type": "code",
      "source": [
        "#loading training history from disk\n",
        "history = pickle.load(open('/content/drive/MyDrive/mobnet_trainhistDict', 'rb'))"
      ],
      "metadata": {
        "id": "7oIDn1HMzOhD"
      },
      "execution_count": null,
      "outputs": []
    },
    {
      "cell_type": "code",
      "source": [
        "#load model\n",
        "import tensorflow\n",
        "loaded_model = tensorflow.keras.models.load_model('/content/drive/MyDrive/Segmentation Models/mobnet_model.h5')"
      ],
      "metadata": {
        "id": "gXDyL8N1zTZi"
      },
      "execution_count": null,
      "outputs": []
    },
    {
      "cell_type": "markdown",
      "source": [
        "**Model Evaluation**"
      ],
      "metadata": {
        "id": "IR1DE1dMVQXM"
      }
    },
    {
      "cell_type": "code",
      "source": [
        "##set figsize\n",
        "plt.figure(figsize = (8, 10))\n",
        "\n",
        "##plot training curve\n",
        "#plt.subplot(4, 2, 1)\n",
        "plt.plot(history.history['loss'], label = 'Loss')\n",
        "plt.plot(history.history['val_loss'], label = 'Val_loss')\n",
        "plt.plot(history.history['accuracy'], label = 'Accuracy')\n",
        "plt.plot(history.history['val_accuracy'], label = 'Val_acc')\n",
        "plt.title('learning curve')\n",
        "plt.legend()\n",
        "\n",
        "plt.show()"
      ],
      "metadata": {
        "colab": {
          "base_uri": "https://localhost:8080/",
          "height": 853
        },
        "id": "ZjSpp5VXUsm9",
        "outputId": "42ef67bc-44cd-4044-e39d-3b3248466670"
      },
      "execution_count": 5,
      "outputs": [
        {
          "output_type": "display_data",
          "data": {
            "text/plain": [
              "<Figure size 800x1000 with 1 Axes>"
            ],
            "image/png": "[encoded data removed]"
          },
          "metadata": {}
        }
      ]
    },
    {
      "cell_type": "code",
      "source": [
        "##labels list\n",
        "labels = ['airplane', 'automobile', 'bird', 'cat', 'deer','dog', 'frog',\n",
        "          'horse', 'ship', 'truck']\n",
        "\n",
        "## Create tf.data.Dataset objects\n",
        "test_dataset = tf.data.Dataset.from_tensor_slices((x_test, y_test))\n",
        "test_dataset = test_dataset.map(preprocess).batch(32).prefetch(tf.data.AUTOTUNE)\n",
        "\n",
        "evaluation = model.evaluate(test_dataset)\n",
        "print(f\"Test Accuracy: {evaluation[1]*100:.2f}%\")\n",
        "\n",
        "##resize X_test\n",
        "x_test_resized = tf.image.resize(x_test, [224, 224] )/255.0\n",
        "\n",
        "##prediction on test data\n",
        "y_pred = model.predict(x_test_resized)\n",
        "y_pred = np.argmax(y_pred, axis=1)\n",
        "\n",
        "##confusion matrix\n",
        "cm = confusion_matrix(y_test_orig, y_pred)\n",
        "disp = ConfusionMatrixDisplay(confusion_matrix=cm, display_labels=labels)\n",
        "\n",
        "##plot the cm\n",
        "fig, ax = plt.subplots(figsize = (10, 10))\n",
        "disp = disp.plot(xticks_rotation = 'vertical', ax = ax, cmap = 'summer')\n",
        "plt.show()"
      ],
      "metadata": {
        "colab": {
          "base_uri": "https://localhost:8080/"
        },
        "id": "gUklySNeUyBG",
        "outputId": "811ef547-bd67-41d1-eaf5-be84e3998f9d"
      },
      "execution_count": null,
      "outputs": [
        {
          "output_type": "stream",
          "name": "stdout",
          "text": [
            "\u001b[1m313/313\u001b[0m \u001b[32m━━━━━━━━━━━━━━━━━━━━\u001b[0m\u001b[37m\u001b[0m \u001b[1m9s\u001b[0m 28ms/step - accuracy: 0.8227 - loss: 0.5872\n",
            "Test Accuracy: 82.32%\n"
          ]
        }
      ]
    }
  ]
}